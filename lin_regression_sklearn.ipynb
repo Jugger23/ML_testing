{
 "cells": [
  {
   "cell_type": "code",
   "execution_count": 18,
   "metadata": {},
   "outputs": [],
   "source": [
    "import pandas as pd\n",
    "import numpy as np\n",
    "import matplotlib.pyplot as plt\n",
    "from scipy import stats\n",
    "from sklearn.model_selection import KFold, cross_val_score, ShuffleSplit, train_test_split\n",
    "from sklearn.linear_model import LinearRegression\n",
    "from sklearn.linear_model import LogisticRegression\n",
    "from sklearn.metrics import confusion_matrix"
   ]
  },
  {
   "cell_type": "code",
   "execution_count": 3,
   "metadata": {},
   "outputs": [],
   "source": [
    "data = pd.read_csv('https://bit.ly/3C8JzrM', header=0)"
   ]
  },
  {
   "cell_type": "code",
   "execution_count": 4,
   "metadata": {},
   "outputs": [],
   "source": [
    "x = data.values[:, :-1]\n",
    "y = data.values[:, -1]\n",
    "n = len(y)"
   ]
  },
  {
   "cell_type": "code",
   "execution_count": 5,
   "metadata": {},
   "outputs": [
    {
     "name": "stdout",
     "output_type": "stream",
     "text": [
      "Mean value (0.842) and STD (0.035).\n"
     ]
    }
   ],
   "source": [
    "seperator = 3\n",
    "\n",
    "# kfold = KFold(n_splits=seperator, shuffle=True, random_state=7)\n",
    "kfold = ShuffleSplit(n_splits=20, test_size=round(1/seperator,2), random_state=7)\n",
    "model = LinearRegression()\n",
    "result_cross_validation = cross_val_score(model, x, y, cv=kfold)\n",
    "\n",
    "\n",
    "print('Mean value ({0:.3f}) and STD ({1:.3f}).'.format(result_cross_validation.mean(), result_cross_validation.std()))"
   ]
  },
  {
   "cell_type": "code",
   "execution_count": 6,
   "metadata": {},
   "outputs": [
    {
     "name": "stdout",
     "output_type": "stream",
     "text": [
      "Score for test set: 0.905\n"
     ]
    }
   ],
   "source": [
    "highest_valid_index = list(result_cross_validation).index(max(result_cross_validation))\n",
    "for i, (train_index, test_index) in enumerate(kfold.split(X=x)):\n",
    "    if i == highest_valid_index:\n",
    "        break\n",
    "model.fit(x[train_index], y[train_index])\n",
    "result_test = model.score(x[test_index], y[test_index])\n",
    "print('Score for test set: {0:.3f}'.format(result_test))"
   ]
  },
  {
   "cell_type": "code",
   "execution_count": 7,
   "metadata": {},
   "outputs": [
    {
     "name": "stdout",
     "output_type": "stream",
     "text": [
      "m for slope is [1.80001713] and b for bias is [2.80019335]\n"
     ]
    },
    {
     "data": {
      "text/plain": [
       "[<matplotlib.lines.Line2D at 0x240b3dc1a10>]"
      ]
     },
     "execution_count": 7,
     "metadata": {},
     "output_type": "execute_result"
    },
    {
     "data": {
      "image/png": "[encoded data removed]",
      "text/plain": [
       "<Figure size 640x480 with 1 Axes>"
      ]
     },
     "metadata": {},
     "output_type": "display_data"
    }
   ],
   "source": [
    "plt.scatter(x,y)\n",
    "m = model.coef_.flatten()\n",
    "b = model.intercept_.flatten()\n",
    "print('m for slope is {0} and b for bias is {1}'.format(m, b))\n",
    "fcn_predict = m * x + b\n",
    "plt.plot(x,fcn_predict)"
   ]
  },
  {
   "cell_type": "code",
   "execution_count": 8,
   "metadata": {},
   "outputs": [
    {
     "name": "stdout",
     "output_type": "stream",
     "text": [
      "Version 1 mit scipy: Korrelationskoeffizient nach Pearson:\n",
      "PearsonRResult(statistic=np.float64(0.9242100628677159), pvalue=np.float64(2.4452525699308e-42))\n"
     ]
    }
   ],
   "source": [
    "print('Version 1 mit scipy: Korrelationskoeffizient nach Pearson:')\n",
    "print('{0}'.format(stats.pearsonr(x[:,0], y)))\n",
    "r = stats.pearsonr(x[:,0], y)[0]"
   ]
  },
  {
   "cell_type": "code",
   "execution_count": 9,
   "metadata": {},
   "outputs": [
    {
     "name": "stdout",
     "output_type": "stream",
     "text": [
      "Version 2 mit pandas: Korrelationskoeffizient nach Pearson:\n",
      "         x        y\n",
      "x  1.00000  0.92421\n",
      "y  0.92421  1.00000\n"
     ]
    }
   ],
   "source": [
    "print('Version 2 mit pandas: Korrelationskoeffizient nach Pearson:')\n",
    "print('{0}'.format(data.corr(method='pearson')))"
   ]
  },
  {
   "cell_type": "code",
   "execution_count": 10,
   "metadata": {},
   "outputs": [
    {
     "name": "stdout",
     "output_type": "stream",
     "text": [
      "Lower and upper bounds of t-test: -1.9844674544266925 / 1.984467454426692\n"
     ]
    }
   ],
   "source": [
    "lower_cv = stats.t(n-1).ppf(0.025)\n",
    "upper_cv = stats.t(n-1).ppf(0.975)\n",
    "\n",
    "print('Lower and upper bounds of t-test: {0} / {1}'.format(lower_cv, upper_cv))"
   ]
  },
  {
   "cell_type": "code",
   "execution_count": 11,
   "metadata": {},
   "outputs": [
    {
     "name": "stdout",
     "output_type": "stream",
     "text": [
      "Correlation is statiscally signifanct!\n"
     ]
    }
   ],
   "source": [
    "test_value = r / np.sqrt((1 - r ** 2) / (n - 2))\n",
    "\n",
    "if test_value < lower_cv or test_value > upper_cv:\n",
    "    print('Correlation is statiscally signifanct!')\n",
    "else:\n",
    "    print('Looser!')"
   ]
  },
  {
   "cell_type": "code",
   "execution_count": null,
   "metadata": {},
   "outputs": [
    {
     "name": "stdout",
     "output_type": "stream",
     "text": [
      "<function confusion_matrix at 0x00000240B3998040>\n",
      "Accuracy Mean:0.672 (stdev=0.016)\n"
     ]
    }
   ],
   "source": [
    "data_log_reg = pd.read_csv('https://bit.ly/3imidqa')\n",
    "\n",
    "x = data_log_reg.values[:, :-1]\n",
    "y = data_log_reg.values[:, -1]\n",
    "n = len(y)\n",
    "\n",
    "kfold_log = KFold(n_splits=seperator, shuffle=True)\n",
    "model_log = LogisticRegression(penalty=None)\n",
    "result_cross_validation = cross_val_score(model, x, y, cv=kfold_log)\n",
    "\n",
    "X_train, X_test, Y_train, Y_test = train_test_split(x, y, test_size=.33)\n",
    "model_log.fit(X_train, Y_train)\n",
    "y_prediction = model_log.predict(X_test)\n",
    "\n",
    "confusion_ = confusion_matrix(y_true=Y_test, y_pred=y_prediction)\n",
    "print(confusion_matrix)\n",
    "\n",
    "print('Accuracy Mean:%.3f (stdev=%.3f)'% (result_cross_validation.mean(), result_cross_validation.std()))\n"
   ]
  }
 ],
 "metadata": {
  "kernelspec": {
   "display_name": ".venv",
   "language": "python",
   "name": "python3"
  },
  "language_info": {
   "codemirror_mode": {
    "name": "ipython",
    "version": 3
   },
   "file_extension": ".py",
   "mimetype": "text/x-python",
   "name": "python",
   "nbconvert_exporter": "python",
   "pygments_lexer": "ipython3",
   "version": "3.11.9"
  }
 },
 "nbformat": 4,
 "nbformat_minor": 2
}
