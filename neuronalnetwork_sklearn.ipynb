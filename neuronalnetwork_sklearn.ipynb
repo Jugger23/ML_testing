{
 "cells": [
  {
   "cell_type": "code",
   "execution_count": 16,
   "metadata": {},
   "outputs": [],
   "source": [
    "import pandas as pd\n",
    "import numpy as np\n",
    "import matplotlib.pyplot as plt\n",
    "from sklearn.model_selection import train_test_split\n",
    "from sklearn.neural_network import MLPClassifier\n",
    "from sklearn.metrics import confusion_matrix, r2_score"
   ]
  },
  {
   "cell_type": "code",
   "execution_count": 4,
   "metadata": {},
   "outputs": [],
   "source": [
    "data = pd.read_csv('https://tinyurl.com/y6r7qjrp', header=0)"
   ]
  },
  {
   "cell_type": "code",
   "execution_count": 6,
   "metadata": {},
   "outputs": [],
   "source": [
    "x = data.values[:, :-1]\n",
    "y = data.values[:, -1]\n",
    "n = len(y)"
   ]
  },
  {
   "cell_type": "code",
   "execution_count": 36,
   "metadata": {},
   "outputs": [
    {
     "name": "stdout",
     "output_type": "stream",
     "text": [
      "Prediction of test data: 0.7777777777777778\n",
      "Prediction of train data: 0.75\n",
      "\n",
      "Konfusionsmaztrix:\n",
      "[[7 2]\n",
      " [2 7]]\n",
      "\n",
      "Korrelation:\n",
      "0.11\n"
     ]
    }
   ],
   "source": [
    "l_rate = 0.001\n",
    "model = MLPClassifier(hidden_layer_sizes=(10,),\n",
    "                      activation='relu',\n",
    "                      solver='lbfgs',\n",
    "                      max_iter=100_000,\n",
    "                      learning_rate_init=l_rate)\n",
    "X_train, X_test, Y_train, Y_test = train_test_split(x, y, test_size=.33)\n",
    "model.fit(X_train, Y_train)\n",
    "y_prediction = model.predict(X_test)\n",
    "\n",
    "print('Prediction of test data: {0}'.format(model.score(X_test,Y_test)))\n",
    "print('Prediction of train data: {0}'.format(model.score(X_train,Y_train)))\n",
    "\n",
    "confusion_ = confusion_matrix(y_true=Y_test, y_pred=y_prediction)\n",
    "print('\\nKonfusionsmaztrix:')\n",
    "print(confusion_)\n",
    "\n",
    "r2 = r2_score(y_true=Y_test, y_pred=y_prediction)\n",
    "print('\\nKorrelation:')\n",
    "print('{0:.2f}'.format(r2))\n"
   ]
  }
 ],
 "metadata": {
  "kernelspec": {
   "display_name": ".venv",
   "language": "python",
   "name": "python3"
  },
  "language_info": {
   "codemirror_mode": {
    "name": "ipython",
    "version": 3
   },
   "file_extension": ".py",
   "mimetype": "text/x-python",
   "name": "python",
   "nbconvert_exporter": "python",
   "pygments_lexer": "ipython3",
   "version": "3.11.9"
  }
 },
 "nbformat": 4,
 "nbformat_minor": 2
}
