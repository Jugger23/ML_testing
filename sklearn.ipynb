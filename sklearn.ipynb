{
 "cells": [
  {
   "cell_type": "code",
   "execution_count": 2,
   "metadata": {},
   "outputs": [],
   "source": [
    "from sklearn.datasets import load_breast_cancer\n",
    "from sklearn.feature_selection import SelectKBest\n",
    "from sklearn.tree import DecisionTreeClassifier, plot_tree\n",
    "from sklearn.ensemble import RandomForestClassifier\n",
    "from sklearn.linear_model import LogisticRegression\n",
    "from sklearn.metrics import r2_score, confusion_matrix, classification_report\n",
    "from sklearn.model_selection import train_test_split\n",
    "from keras import layers, Input\n",
    "import matplotlib.pyplot as plt\n",
    "import numpy as np\n",
    "import pandas as pd\n"
   ]
  },
  {
   "cell_type": "code",
   "execution_count": 3,
   "metadata": {},
   "outputs": [
    {
     "name": "stdout",
     "output_type": "stream",
     "text": [
      "shape of features: (569, 30)\n",
      "len of label tensor: 569\n"
     ]
    }
   ],
   "source": [
    "dataset = load_breast_cancer()\n",
    "print(f'shape of features: {dataset.data.shape}')\n",
    "features = dataset.data\n",
    "print(f'len of label tensor: {len(dataset.target)}')\n",
    "labels = dataset.target\n"
   ]
  },
  {
   "cell_type": "code",
   "execution_count": 4,
   "metadata": {},
   "outputs": [
    {
     "data": {
      "text/plain": [
       "<matplotlib.collections.PathCollection at 0x27ff9074d50>"
      ]
     },
     "execution_count": 4,
     "metadata": {},
     "output_type": "execute_result"
    },
    {
     "data": {
      "image/png": "[encoded data removed]",
      "text/plain": [
       "<Figure size 640x480 with 1 Axes>"
      ]
     },
     "metadata": {},
     "output_type": "display_data"
    }
   ],
   "source": [
    "plt.scatter(features[:,1],labels)"
   ]
  },
  {
   "cell_type": "code",
   "execution_count": 5,
   "metadata": {},
   "outputs": [],
   "source": [
    "X_train, X_test, y_train, y_test = train_test_split(dataset.data, dataset.target, random_state=50, train_size=0.80,stratify=labels)\n",
    "X_train_val, X_val, y_train_val, y_val = train_test_split(X_train, y_train, random_state=20, train_size=0.80,stratify=y_train)"
   ]
  },
  {
   "cell_type": "code",
   "execution_count": 8,
   "metadata": {},
   "outputs": [
    {
     "name": "stdout",
     "output_type": "stream",
     "text": [
      "model prediction for val data: 0.93\n",
      "model prediction for train data: 0.97\n",
      "model prediction for test data: 0.96\n",
      "confusions matrix val set:\n",
      "[[0.31868132 0.05494505]\n",
      " [0.01098901 0.61538462]]\n",
      "\n",
      "\n",
      " report:               precision    recall  f1-score   support\n",
      "\n",
      "           0       0.95      0.93      0.94        42\n",
      "           1       0.96      0.97      0.97        72\n",
      "\n",
      "    accuracy                           0.96       114\n",
      "   macro avg       0.96      0.95      0.95       114\n",
      "weighted avg       0.96      0.96      0.96       114\n",
      "\n"
     ]
    }
   ],
   "source": [
    "# model = LogisticRegression(solver='lbfgs', max_iter=100_000)\n",
    "# model = DecisionTreeClassifier(max_depth=5, min_samples_split=5, min_samples_leaf=5)\n",
    "result = {'score':[], 'depth':[], 'split':[], 'leaf':[]}\n",
    "model = RandomForestClassifier(max_depth=10, min_samples_split=10, min_samples_leaf=5)\n",
    "\n",
    "\n",
    "model.fit(X_train_val, y_train_val)\n",
    "y_predict_val = model.predict(X_val)\n",
    "y_predict_test = model.predict(X_test)\n",
    "print('model prediction for val data: {0:.2f}'.format(model.score(X_val,y_val)))\n",
    "print('model prediction for train data: {0:.2f}'.format(model.score(X_train,y_train)))\n",
    "print('model prediction for test data: {0:.2f}'.format(model.score(X_test,y_test)))\n",
    "\n",
    "score = np.round(model.score(X_test,y_test),2)\n",
    "\n",
    "result['score'].append(score)\n",
    "result['depth'].append(10)\n",
    "result['split'].append(10)\n",
    "result['leaf'].append(5)\n",
    "\n",
    "print('confusions matrix val set:')\n",
    "print(confusion_matrix(y_val,y_predict_val)/len(y_predict_val))\n",
    "print(f'\\n\\n report: {classification_report(y_test,y_predict_test)}')\n",
    "\n",
    "result = pd.DataFrame(result)\n",
    "\n",
    "if False:\n",
    "    plt.figure(figsize=[10, 10])\n",
    "    plot_tree(model)"
   ]
  }
 ],
 "metadata": {
  "kernelspec": {
   "display_name": ".venv",
   "language": "python",
   "name": "python3"
  },
  "language_info": {
   "codemirror_mode": {
    "name": "ipython",
    "version": 3
   },
   "file_extension": ".py",
   "mimetype": "text/x-python",
   "name": "python",
   "nbconvert_exporter": "python",
   "pygments_lexer": "ipython3",
   "version": "3.11.9"
  }
 },
 "nbformat": 4,
 "nbformat_minor": 2
}
